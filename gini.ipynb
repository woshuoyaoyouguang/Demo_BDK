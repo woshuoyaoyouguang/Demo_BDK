{
 "cells": [
  {
   "cell_type": "code",
   "execution_count": null,
   "id": "6d7a978d",
   "metadata": {},
   "outputs": [],
   "source": [
    "import numpy as np\n",
    "import matplotlib.pyplot as plt\n",
    "\n",
    "def lorenz_curve(true_labels, predicted_probs):\n",
    "    \"\"\"\n",
    "    计算并绘制Lorenz曲线，返回曲线下的面积\n",
    "    :param true_labels: 真实标签 (0或1)\n",
    "    :param predicted_probs: 预测概率 (类别1的概率)\n",
    "    :return: Lorenz曲线下的面积\n",
    "    \"\"\"\n",
    "    # 按预测概率排序\n",
    "    sorted_indices = np.argsort(predicted_probs)[::-1]\n",
    "    sorted_true_labels = np.array(true_labels)[sorted_indices]\n",
    "    \n",
    "    # 计算累计和的比例\n",
    "    cumulative_true_labels = np.cumsum(sorted_true_labels) / np.sum(sorted_true_labels)\n",
    "    cumulative_total = np.arange(1, len(true_labels) + 1) / len(true_labels)\n",
    "    \n",
    "    # 添加一个起点（0,0）来正确计算面积\n",
    "    cumulative_true_labels = np.insert(cumulative_true_labels, 0, 0)\n",
    "    cumulative_total = np.insert(cumulative_total, 0, 0)\n",
    "    \n",
    "    # 计算Lorenz曲线下的面积\n",
    "    lorenz_area = np.trapz(cumulative_true_labels, cumulative_total)\n",
    "    \n",
    "    # 绘制Lorenz曲线\n",
    "    plt.figure(figsize=(8, 6))\n",
    "    plt.plot(cumulative_total, cumulative_true_labels, label=\"Lorenz Curve\")\n",
    "    plt.plot([0, 1], [0, 1], label=\"Perfect Equality\", linestyle=\"--\", color=\"gray\")\n",
    "    plt.fill_between(cumulative_total, cumulative_true_labels, alpha=0.3)\n",
    "    plt.title(\"Lorenz Curve\")\n",
    "    plt.xlabel(\"Cumulative share of population\")\n",
    "    plt.ylabel(\"Cumulative share of true labels\")\n",
    "    plt.legend()\n",
    "    plt.show()\n",
    "    \n",
    "    return lorenz_area\n",
    "\n",
    "def gini_from_lorenz(true_labels, predicted_probs):\n",
    "    \"\"\"\n",
    "    根据Lorenz曲线计算Gini系数\n",
    "    :param true_labels: 真实标签 (0或1)\n",
    "    :param predicted_probs: 预测概率 (类别1的概率)\n",
    "    :return: Gini系数\n",
    "    \"\"\"\n",
    "    lorenz_area = lorenz_curve(true_labels, predicted_probs)\n",
    "    # Gini系数 = 1 - 2 * 面积\n",
    "    gini = 2 * lorenz_area - 1 \n",
    "    return gini\n",
    "\n",
    "from sklearn.metrics import roc_auc_score\n",
    "def calculate_auc(true_labels, predicted_probs):\n",
    "    \"\"\"\n",
    "    计算AUC (Area Under the ROC Curve)\n",
    "    :param true_labels: 真实标签 (0 或 1)\n",
    "    :param predicted_probs: 预测概率 (类别1的概率)\n",
    "    :return: AUC值\n",
    "    \"\"\"\n",
    "    # 计算 AUC\n",
    "    auc = roc_auc_score(true_labels, predicted_probs)\n",
    "    return auc"
   ]
  },
  {
   "cell_type": "code",
   "execution_count": null,
   "id": "3f52c51c",
   "metadata": {},
   "outputs": [],
   "source": [
    "true_labels = [1, 0, 1, 1, 0, 0, 1, 0, 1, 0]\n",
    "predicted_probs = [0.9, 0.2, 0.8, 0.7, 0.1, 0.3, 0.95, 0.05, 0.85, 0.4]"
   ]
  },
  {
   "cell_type": "code",
   "execution_count": null,
   "id": "93844d73",
   "metadata": {},
   "outputs": [],
   "source": [
    "gini_value = gini_from_lorenz(true_labels, predicted_probs)\n",
    "AUC = calculate_auc(true_labels, predicted_probs)"
   ]
  },
  {
   "cell_type": "code",
   "execution_count": null,
   "id": "a2a0dcab",
   "metadata": {},
   "outputs": [],
   "source": [
    "print(f\"Gini系数: {gini_value}\")\n",
    "print(f\"AUC系数: {AUC}\")"
   ]
  },
  {
   "cell_type": "code",
   "execution_count": null,
   "id": "4cad691a",
   "metadata": {},
   "outputs": [],
   "source": [
    "a = 2 * AUC - 1\n",
    "a"
   ]
  },
  {
   "cell_type": "code",
   "execution_count": null,
   "id": "4792a7ea",
   "metadata": {},
   "outputs": [],
   "source": []
  },
  {
   "cell_type": "code",
   "execution_count": null,
   "id": "57ecb4b3",
   "metadata": {},
   "outputs": [],
   "source": [
    "import numpy as np\n",
    "\n",
    "# 生成50组数据\n",
    "np.random.seed(42)  # 设置随机种子，以确保结果可重现\n",
    "true_labels = np.random.choice([0, 1], size=50)  # 随机生成0和1作为真实标签\n",
    "predicted_probs = np.random.rand(50)  # 随机生成0到1之间的概率作为预测值\n",
    "\n",
    "# 打印前10个数据点以查看生成的数据\n",
    "print(\"真实标签:\", true_labels)\n",
    "print(\"预测概率:\", predicted_probs)"
   ]
  },
  {
   "cell_type": "code",
   "execution_count": null,
   "id": "168de86c",
   "metadata": {},
   "outputs": [],
   "source": [
    "gini_value = gini_from_lorenz(true_labels, predicted_probs)\n",
    "AUC = calculate_auc(true_labels, predicted_probs)"
   ]
  },
  {
   "cell_type": "code",
   "execution_count": null,
   "id": "179664ba",
   "metadata": {},
   "outputs": [],
   "source": [
    "print(f\"Gini系数: {gini_value}\")\n",
    "print(f\"AUC系数: {AUC}\")"
   ]
  },
  {
   "cell_type": "code",
   "execution_count": null,
   "id": "80c983f6",
   "metadata": {},
   "outputs": [],
   "source": [
    "a = 2 * AUC - 1\n",
    "a"
   ]
  },
  {
   "cell_type": "code",
   "execution_count": null,
   "id": "1e7449ec",
   "metadata": {},
   "outputs": [],
   "source": []
  },
  {
   "cell_type": "code",
   "execution_count": null,
   "id": "5f47014a",
   "metadata": {},
   "outputs": [],
   "source": [
    "import numpy as np\n",
    "\n",
    "# 样本量\n",
    "n = 50\n",
    "\n",
    "# 真实标签，前25个为1，后25个为0\n",
    "true_labels = np.array([1] * 25 + [0] * 25)\n",
    "\n",
    "# 预测概率，前25个预测概率从0.75增加到1，后25个预测概率从0.25减少到0\n",
    "predicted_probs = np.concatenate([np.linspace(0.75, 1, 25), np.linspace(0.25, 0, 25)])\n",
    "\n",
    "# 打印前10个数据点以查看生成的数据\n",
    "print(\"真实标签:\", true_labels[:10])\n",
    "print(\"预测概率:\", predicted_probs[:10])\n",
    "\n",
    "# 将其展示为表格\n",
    "data = np.column_stack((range(1, n+1), true_labels, predicted_probs))\n",
    "print(\"\\n样本编号 | 真实标签 | 预测概率\")\n",
    "print(data)\n"
   ]
  },
  {
   "cell_type": "code",
   "execution_count": null,
   "id": "feee92ec",
   "metadata": {},
   "outputs": [],
   "source": [
    "print(f\"Gini系数: {gini_value}\")\n",
    "print(f\"AUC系数: {AUC}\")"
   ]
  },
  {
   "cell_type": "code",
   "execution_count": null,
   "id": "bc5d408c",
   "metadata": {},
   "outputs": [],
   "source": [
    "a = 2 * AUC - 1\n",
    "a"
   ]
  },
  {
   "cell_type": "code",
   "execution_count": null,
   "id": "0bfba10a",
   "metadata": {},
   "outputs": [],
   "source": []
  },
  {
   "cell_type": "code",
   "execution_count": null,
   "id": "34ea47b0",
   "metadata": {},
   "outputs": [],
   "source": []
  },
  {
   "cell_type": "code",
   "execution_count": null,
   "id": "f0044c89",
   "metadata": {},
   "outputs": [],
   "source": [
    "import numpy as np\n",
    "\n",
    "# 设置样本量和正负样本的比例\n",
    "n = 100  # 样本总数\n",
    "positive_ratio = 1 / 100  # 正类样本占比\n",
    "negative_ratio = 99 / 100  # 负类样本占比\n",
    "\n",
    "# 生成真实标签：45个正类标签（1），5个负类标签（0）\n",
    "true_labels = np.array([1] * int(n * positive_ratio) + [0] * int(n * negative_ratio))\n",
    "\n",
    "# 生成预测概率：为正类样本生成较高的概率，为负类样本生成较低的概率\n",
    "positive_probs = np.linspace(0.7, 1, int(n * positive_ratio))  # 正类概率从0.7到1\n",
    "negative_probs = np.linspace(0.1, 0.3, int(n * negative_ratio))  # 负类概率从0.1到0.3\n",
    "\n",
    "# 合并预测概率\n",
    "predicted_probs = np.concatenate([positive_probs, negative_probs])\n",
    "\n",
    "# 打乱数据（保证顺序随机）\n",
    "indices = np.random.permutation(n)\n",
    "true_labels = true_labels[indices]\n",
    "predicted_probs = predicted_probs[indices]\n",
    "\n",
    "# 打印前10个数据点以查看生成的数据\n",
    "print(\"真实标签:\", true_labels[:10])\n",
    "print(\"预测概率:\", predicted_probs[:10])\n",
    "\n",
    "# # 将其展示为表格\n",
    "# data = np.column_stack((range(1, n+1), true_labels, predicted_probs))\n",
    "# print(\"\\n样本编号 | 真实标签 | 预测概率\")\n",
    "# print(data)\n"
   ]
  },
  {
   "cell_type": "code",
   "execution_count": null,
   "id": "e2061e98",
   "metadata": {},
   "outputs": [],
   "source": [
    "gini_value = gini_from_lorenz(true_labels, predicted_probs)\n",
    "AUC = calculate_auc(true_labels, predicted_probs)"
   ]
  },
  {
   "cell_type": "code",
   "execution_count": null,
   "id": "63af4781",
   "metadata": {},
   "outputs": [],
   "source": [
    "print(f\"Gini系数: {gini_value}\")\n",
    "print(f\"AUC系数: {AUC}\")\n"
   ]
  },
  {
   "cell_type": "code",
   "execution_count": null,
   "id": "fb2e1ce0",
   "metadata": {},
   "outputs": [],
   "source": [
    "a = 2 * AUC - 1\n",
    "a"
   ]
  },
  {
   "cell_type": "code",
   "execution_count": null,
   "id": "1469eb78",
   "metadata": {},
   "outputs": [],
   "source": []
  },
  {
   "cell_type": "code",
   "execution_count": null,
   "id": "99c46b2a",
   "metadata": {},
   "outputs": [],
   "source": []
  },
  {
   "cell_type": "code",
   "execution_count": null,
   "id": "6540931d",
   "metadata": {},
   "outputs": [],
   "source": []
  },
  {
   "cell_type": "code",
   "execution_count": null,
   "id": "e128bd1c",
   "metadata": {},
   "outputs": [],
   "source": []
  },
  {
   "cell_type": "code",
   "execution_count": 1,
   "id": "c723dc8d",
   "metadata": {},
   "outputs": [],
   "source": [
    "import numpy as np\n",
    "import matplotlib.pyplot as plt\n",
    "\n",
    "def lorenz_curve_binned(true_labels, predicted_probs, n_bins=10):\n",
    "    \"\"\"\n",
    "    Computes and plots the aggregated Lorenz curve and returns the area under the curve.\n",
    "\n",
    "    Optimization approach:\n",
    "    - Sorts the data in descending order of predicted probabilities.\n",
    "    - Splits the sorted data into n_bins bins, aggregating samples within each bin.\n",
    "    - Computes cumulative sample counts and cumulative positive sample counts (label=1) for each bin.\n",
    "    - Uses these aggregated data points to construct the Lorenz curve and calculates its area using trapezoidal integration.\n",
    "\n",
    "    :param true_labels: True labels (0 or 1)\n",
    "    :param predicted_probs: Predicted probabilities (probability of class 1)\n",
    "    :param n_bins: Number of bins (number of aggregated data points)\n",
    "    :return: (lorenz_area, x_points, y_points)\n",
    "             lorenz_area: Area under the Lorenz curve\n",
    "             x_points: Cumulative sample proportion (x-axis points)\n",
    "             y_points: Cumulative positive label proportion (y-axis points)\n",
    "    \"\"\"\n",
    "\n",
    "    # Convert inputs to numpy arrays\n",
    "    true_labels = np.array(true_labels)\n",
    "    predicted_probs = np.array(predicted_probs)\n",
    "    \n",
    "    # Sort data in descending order of predicted probabilities\n",
    "    sorted_indices = np.argsort(predicted_probs)[::-1]\n",
    "    sorted_true = true_labels[sorted_indices]\n",
    "    \n",
    "    # Split the sorted labels into n_bins bins (bins may have different sizes)\n",
    "    bins = np.array_split(sorted_true, n_bins)\n",
    "    \n",
    "    # Compute the number of samples and number of positive samples (label=1) in each bin\n",
    "    bin_counts = np.array([len(b) for b in bins])\n",
    "    bin_positive = np.array([np.sum(b) for b in bins])\n",
    "    \n",
    "    # Compute cumulative sample count and cumulative positive sample count\n",
    "    cumulative_counts = np.cumsum(bin_counts)\n",
    "    cumulative_positive = np.cumsum(bin_positive)\n",
    "    \n",
    "    total_samples = len(true_labels)\n",
    "    total_positive = np.sum(true_labels)\n",
    "    \n",
    "    # Compute the aggregated Lorenz curve coordinates:\n",
    "    # x-axis: Cumulative proportion of total samples\n",
    "    # y-axis: Cumulative proportion of positive labels\n",
    "    x_points = np.insert(cumulative_counts / total_samples, 0, 0)\n",
    "    y_points = np.insert(cumulative_positive / total_positive, 0, 0)\n",
    "    \n",
    "    # Compute the area under the Lorenz curve using the trapezoidal rule\n",
    "    lorenz_area = np.trapz(y_points, x_points)\n",
    "    \n",
    "    # Plot the aggregated Lorenz curve\n",
    "    plt.figure(figsize=(8, 6))\n",
    "    plt.plot(x_points, y_points, marker='o', label=f\"Binned Lorenz Curve (n_bins={n_bins})\")\n",
    "    plt.plot([0, 1], [0, 1], linestyle=\"--\", color=\"gray\", label=\"Perfect Equality\")\n",
    "    plt.fill_between(x_points, y_points, alpha=0.3)\n",
    "    plt.title(\"Binned Lorenz Curve\")\n",
    "    plt.xlabel(\"Cumulative share of population\")\n",
    "    plt.ylabel(\"Cumulative share of positive labels\")\n",
    "    plt.legend()\n",
    "    plt.show()\n",
    "    \n",
    "    return lorenz_area, x_points, y_points\n",
    "\n",
    "def gini_from_lorenz_binned(true_labels, predicted_probs, n_bins=10):\n",
    "    \"\"\"\n",
    "    Computes the Gini coefficient based on the aggregated Lorenz curve.\n",
    "\n",
    "    :param true_labels: True labels (0 or 1)\n",
    "    :param predicted_probs: Predicted probabilities (probability of class 1)\n",
    "    :param n_bins: Number of bins\n",
    "    :return: Gini coefficient\n",
    "    \"\"\"\n",
    "    lorenz_area, _, _ = lorenz_curve_binned(true_labels, predicted_probs, n_bins)\n",
    "    # Gini coefficient = 2 * (Lorenz area) - 1\n",
    "    gini = 2 * lorenz_area - 1\n",
    "    return gini\n"
   ]
  },
  {
   "cell_type": "code",
   "execution_count": 3,
   "id": "536c7862",
   "metadata": {},
   "outputs": [
    {
     "name": "stderr",
     "output_type": "stream",
     "text": [
      "<frozen importlib._bootstrap>:241: RuntimeWarning: scipy._lib.messagestream.MessageStream size changed, may indicate binary incompatibility. Expected 56 from C header, got 64 from PyObject\n"
     ]
    }
   ],
   "source": [
    "\n",
    "from sklearn.metrics import roc_auc_score\n",
    "def calculate_auc(true_labels, predicted_probs):\n",
    "    \"\"\"\n",
    "    计算AUC (Area Under the ROC Curve)\n",
    "    :param true_labels: 真实标签 (0 或 1)\n",
    "    :param predicted_probs: 预测概率 (类别1的概率)\n",
    "    :return: AUC值\n",
    "    \"\"\"\n",
    "    # 计算 AUC\n",
    "    auc = roc_auc_score(true_labels, predicted_probs)\n",
    "    return auc"
   ]
  },
  {
   "cell_type": "code",
   "execution_count": 19,
   "id": "b2f0b501",
   "metadata": {},
   "outputs": [
    {
     "name": "stdout",
     "output_type": "stream",
     "text": [
      "真实标签: [0 0 0 0 0 0 0 0 0 0]\n",
      "预测概率: [0.16734694 0.27346939 0.29183673 0.19591837 0.22244898 0.2122449\n",
      " 0.29387755 0.10204082 0.12857143 0.23061224]\n"
     ]
    }
   ],
   "source": [
    "import numpy as np\n",
    "\n",
    "# 设置样本量和正负样本的比例\n",
    "n = 100  # 样本总数\n",
    "positive_ratio = 1 / 100  # 正类样本占比\n",
    "negative_ratio = 99 / 100  # 负类样本占比\n",
    "\n",
    "# 生成真实标签：45个正类标签（1），5个负类标签（0）\n",
    "true_labels = np.array([1] * int(n * positive_ratio) + [0] * int(n * negative_ratio))\n",
    "\n",
    "# 生成预测概率：为正类样本生成较高的概率，为负类样本生成较低的概率\n",
    "positive_probs = np.linspace(0.7, 1, int(n * positive_ratio))  # 正类概率从0.7到1\n",
    "negative_probs = np.linspace(0.1, 0.3, int(n * negative_ratio))  # 负类概率从0.1到0.3\n",
    "\n",
    "# 合并预测概率\n",
    "predicted_probs = np.concatenate([positive_probs, negative_probs])\n",
    "\n",
    "# 打乱数据（保证顺序随机）\n",
    "indices = np.random.permutation(n)\n",
    "true_labels = true_labels[indices]\n",
    "predicted_probs = predicted_probs[indices]\n",
    "\n",
    "# 打印前10个数据点以查看生成的数据\n",
    "print(\"真实标签:\", true_labels[:10])\n",
    "print(\"预测概率:\", predicted_probs[:10])\n",
    "\n",
    "# # 将其展示为表格\n",
    "# data = np.column_stack((range(1, n+1), true_labels, predicted_probs))\n",
    "# print(\"\\n样本编号 | 真实标签 | 预测概率\")\n",
    "# print(data)\n"
   ]
  },
  {
   "cell_type": "code",
   "execution_count": 20,
   "id": "91983279",
   "metadata": {},
   "outputs": [
    {
     "data": {
      "image/png": "[encoded data removed]",
      "text/plain": [
       "<Figure size 800x600 with 1 Axes>"
      ]
     },
     "metadata": {},
     "output_type": "display_data"
    }
   ],
   "source": [
    "gini_value = gini_from_lorenz_binned(true_labels, predicted_probs)\n",
    "AUC = calculate_auc(true_labels, predicted_probs)"
   ]
  },
  {
   "cell_type": "code",
   "execution_count": 21,
   "id": "55550e08",
   "metadata": {},
   "outputs": [
    {
     "name": "stdout",
     "output_type": "stream",
     "text": [
      "Gini系数: 0.8999999999999999\n",
      "AUC系数: 1.0\n"
     ]
    }
   ],
   "source": [
    "print(f\"Gini系数: {gini_value}\")\n",
    "print(f\"AUC系数: {AUC}\")"
   ]
  },
  {
   "cell_type": "code",
   "execution_count": 22,
   "id": "563012a7",
   "metadata": {},
   "outputs": [
    {
     "data": {
      "text/plain": [
       "1.0"
      ]
     },
     "execution_count": 22,
     "metadata": {},
     "output_type": "execute_result"
    }
   ],
   "source": [
    "a = 2 * AUC - 1\n",
    "a"
   ]
  },
  {
   "cell_type": "code",
   "execution_count": null,
   "id": "e3fd06df",
   "metadata": {},
   "outputs": [],
   "source": []
  },
  {
   "cell_type": "code",
   "execution_count": 7,
   "id": "c25a2909",
   "metadata": {},
   "outputs": [
    {
     "name": "stdout",
     "output_type": "stream",
     "text": [
      "真实标签: [0 1 0 0 0 1 0 0 0 1 0 0 0 0 1 0 1 1 1 0 1 0 1 1 1 1 1 1 1 1 0 0 1 1 1 0 1\n",
      " 0 0 0 0 0 1 1 1 1 1 0 1 1 0 1 0 1 0 1 1 0 0 0 0 0 0 0 0 1 1 0 1 1 1 1 0 1\n",
      " 0 1 1 1 0 1 0 1 0 1 0 0 1 0 1 1 1 1 1 1 1 1 1 1 1 0 0 1 1 1 1 1 1 1 1 0 1\n",
      " 0 1 1 0 1 0 1 1 0 1 0 1 0 0 1 1 0 1 1 1 0 0 0 0 0 0 0 0 0 1 0 1 1 1 0 0 0\n",
      " 0 1 0 0 0 0 0 1 0 1 0 1 0 0 1 1 1 0 1 0 0 1 1 0 0 1 1 1 0 0 0 0 0 0 1 0 0\n",
      " 0 1 0 0 1 0 0 0 0 0 1 1 1 0 0 0 1 0 0 1 0 1 1 1 0 0 0 0 0 0 0 1 0 1 0 0 0\n",
      " 1 1 1 1 0 1 0 0 1 1 1 1 1 1 1 1 0 1 1 0 1 0 0 1 0 0 0 0 1 0 1 0 0 0 0 1 1\n",
      " 0 0 1 0 0 0 1 1 1 0 0 1 1 1 1 0 1 0 1 0 1 1 1 1 0 1 0 0 0 0 1 0 0 0 1 1 1\n",
      " 1 0 0 1 0 0 0 1 1 0 1 1 1 1 1 0 1 0 0 1 0 0 0 1 1 0 1 1 1 1 0 0 1 1 0 0 1\n",
      " 0 1 1 0 0 1 1 0 1 0 1 0 0 0 1 1 0 1 0 0 1 1 0 1 1 0 0 1 0 0 1 0 0 1 1 0 0\n",
      " 1 1 1 1 0 1 1 0 1 0 1 1 1 0 0 1 0 0 0 0 0 0 1 1 0 1 1 1 1 0 1 1 0 0 1 1 1\n",
      " 1 1 1 0 1 1 0 0 0 0 1 1 1 1 1 1 0 1 0 0 1 0 1 0 1 0 1 1 1 1 1 0 0 0 1 0 1\n",
      " 1 0 0 1 0 1 1 1 1 1 0 0 1 1 0 0 1 0 1 0 1 0 1 0 0 1 0 1 0 1 0 1 0 1 0 1 1\n",
      " 1 0 1 0 1 0 1 0 0 1 0 0 1 0 0 0 1 0 1]\n",
      "预测概率: [0.29444889 0.38509773 0.85113667 0.31692201 0.16949275 0.55680126\n",
      " 0.93615477 0.6960298  0.57006117 0.09717649 0.61500723 0.99005385\n",
      " 0.14008402 0.51832965 0.87737307 0.74076862 0.69701574 0.70248408\n",
      " 0.35949115 0.29359184 0.80936116 0.81011339 0.86707232 0.91324055\n",
      " 0.5113424  0.50151629 0.79829518 0.64996393 0.70196688 0.79579267\n",
      " 0.89000534 0.33799516 0.37558295 0.09398194 0.57828014 0.03594227\n",
      " 0.46559802 0.54264463 0.28654125 0.59083326 0.03050025 0.03734819\n",
      " 0.82260056 0.36019064 0.12706051 0.52224326 0.76999355 0.21582103\n",
      " 0.62289048 0.08534746 0.05168172 0.53135463 0.54063512 0.6374299\n",
      " 0.72609133 0.97585208 0.51630035 0.32295647 0.79518619 0.27083225\n",
      " 0.43897142 0.07845638 0.02535074 0.96264841 0.83598012 0.69597421\n",
      " 0.40895294 0.17329432 0.15643704 0.2502429  0.54922666 0.71459592\n",
      " 0.66019738 0.2799339  0.95486528 0.73789692 0.55435405 0.61172075\n",
      " 0.41960006 0.24773099 0.35597268 0.75784611 0.01439349 0.11607264\n",
      " 0.04600264 0.0407288  0.85546058 0.70365786 0.47417383 0.09783416\n",
      " 0.49161588 0.47347177 0.17320187 0.43385165 0.39850473 0.6158501\n",
      " 0.63509365 0.04530401 0.37461261 0.62585992 0.50313626 0.85648984\n",
      " 0.65869363 0.16293443 0.07056875 0.64241928 0.02651131 0.58577558\n",
      " 0.94023024 0.57547418 0.38816993 0.64328822 0.45825289 0.54561679\n",
      " 0.94146481 0.38610264 0.96119056 0.90535064 0.19579113 0.0693613\n",
      " 0.100778   0.01822183 0.09444296 0.68300677 0.07118865 0.31897563\n",
      " 0.84487531 0.02327194 0.81446848 0.28185477 0.11816483 0.69673717\n",
      " 0.62894285 0.87747201 0.73507104 0.80348093 0.28203457 0.17743954\n",
      " 0.75061475 0.80683474 0.99050514 0.41261768 0.37201809 0.77641296\n",
      " 0.34080354 0.93075733 0.85841275 0.42899403 0.75087107 0.75454287\n",
      " 0.10312387 0.90255291 0.50525237 0.82645747 0.3200496  0.89552323\n",
      " 0.38920168 0.01083765 0.90538198 0.09128668 0.31931364 0.95006197\n",
      " 0.95060715 0.57343789 0.63183721 0.44844552 0.29321077 0.32866455\n",
      " 0.67251846 0.75237453 0.79157904 0.78961814 0.0912061  0.4944203\n",
      " 0.05755876 0.54952888 0.4415305  0.88770418 0.35091501 0.11706702\n",
      " 0.14299168 0.76151063 0.61821806 0.10112268 0.08410681 0.70096913\n",
      " 0.07276301 0.82186006 0.70624223 0.08134878 0.08483771 0.98663958\n",
      " 0.3742708  0.37064215 0.81279957 0.94724858 0.98600106 0.75337819\n",
      " 0.37625959 0.08350072 0.77714692 0.55840425 0.42422201 0.90635439\n",
      " 0.11119748 0.4926251  0.01135364 0.46866064 0.05630328 0.11881792\n",
      " 0.11752625 0.6492103  0.74604488 0.58336877 0.96217255 0.37487058\n",
      " 0.28571209 0.86859913 0.22359584 0.96322254 0.01215447 0.96987883\n",
      " 0.04315991 0.89114311 0.52770111 0.9929648  0.07379656 0.55385428\n",
      " 0.96930254 0.52309784 0.62939864 0.69574869 0.45454106 0.62755808\n",
      " 0.58431431 0.90115801 0.04544638 0.28096319 0.95041148 0.89026378\n",
      " 0.45565675 0.6201326  0.27738118 0.18812116 0.4636984  0.35335223\n",
      " 0.58365611 0.07773464 0.97439481 0.98621074 0.69816171 0.53609637\n",
      " 0.30952762 0.81379502 0.68473117 0.16261694 0.91092718 0.82253724\n",
      " 0.94979991 0.72571951 0.6134152  0.41824304 0.93272848 0.86606389\n",
      " 0.04521867 0.02636697 0.37646337 0.81055333 0.98727613 0.15041689\n",
      " 0.59413072 0.38089086 0.9699144  0.84211892 0.8383287  0.46869316\n",
      " 0.4148195  0.27340707 0.0563755  0.86472238 0.81290101 0.99971767\n",
      " 0.99663684 0.55543171 0.76898742 0.94476573 0.84964739 0.2473481\n",
      " 0.45054414 0.12915942 0.95405103 0.60617463 0.22864281 0.67170068\n",
      " 0.61812824 0.35816272 0.11355759 0.6715732  0.5203077  0.77231839\n",
      " 0.5201635  0.8521815  0.55190684 0.56093797 0.8766536  0.40348287\n",
      " 0.13401523 0.02878268 0.75513726 0.62030955 0.70407977 0.21296416\n",
      " 0.13637148 0.01454467 0.35058756 0.58991769 0.39224405 0.43747492\n",
      " 0.90415869 0.34825547 0.51398949 0.78365301 0.39654278 0.6220867\n",
      " 0.86236371 0.94952062 0.14707348 0.92658763 0.49211629 0.25824439\n",
      " 0.45913576 0.98003258 0.49261809 0.32875161 0.63340085 0.24014562\n",
      " 0.07586333 0.12887972 0.12804584 0.15190269 0.13882717 0.64087474\n",
      " 0.18188008 0.34566728 0.89678841 0.47396164 0.66755774 0.17231987\n",
      " 0.19228902 0.04086862 0.16893506 0.27859034 0.17701048 0.08870253\n",
      " 0.12063587 0.46077877 0.20633372 0.36426986 0.50341727 0.69039483\n",
      " 0.03931214 0.7994104  0.62790039 0.08175903 0.87357862 0.9208724\n",
      " 0.06107796 0.27687765 0.80620128 0.74825969 0.18452102 0.20934932\n",
      " 0.3704721  0.48452299 0.61825477 0.36891364 0.46253472 0.74747094\n",
      " 0.0366832  0.25243694 0.71334959 0.89520684 0.51167744 0.53211349\n",
      " 0.10717201 0.44741237 0.53261727 0.2424705  0.26924323 0.37728416\n",
      " 0.0200712  0.32207917 0.21144801 0.32749735 0.11976213 0.89052728\n",
      " 0.59359245 0.67910232 0.78917124 0.4984422  0.08692029 0.53710654\n",
      " 0.58684112 0.74543947 0.43165955 0.1275803  0.28377591 0.3630823\n",
      " 0.64591724 0.5707783  0.35609673 0.98651525 0.60577482 0.23722679\n",
      " 0.10178247 0.15285914 0.24595773 0.16068137 0.18656702 0.28509517\n",
      " 0.1733736  0.89676542 0.08023375 0.52451139 0.41039683 0.98237862\n",
      " 0.1120389  0.3978556  0.96947043 0.86550713 0.81707207 0.25790283\n",
      " 0.17088759 0.66864322 0.92937599 0.55676289 0.57161269 0.27997909\n",
      " 0.76949293 0.18704375 0.32367924 0.42543644 0.50761038 0.24240973\n",
      " 0.11483682 0.61062004 0.28863055 0.58123822 0.15436272 0.4811401\n",
      " 0.53258943 0.05182354 0.33660428 0.13441468 0.06337497 0.98996023\n",
      " 0.32235384 0.80987445 0.25464065 0.68150272 0.76022786 0.59563874\n",
      " 0.47157619 0.41184091 0.34886827 0.92952914 0.83061941 0.96502691\n",
      " 0.12429722 0.73086748 0.93834046 0.18123307 0.06649627 0.74112065\n",
      " 0.57447311 0.84182878 0.13977238 0.79526731 0.20162732 0.16365594\n",
      " 0.1642658  0.81457472 0.66519722 0.52306542 0.35883048 0.87720054\n",
      " 0.39244511 0.81659944 0.43913491 0.37694443 0.46267979 0.30137787\n",
      " 0.74760938 0.50272039 0.2322127  0.89957457 0.38389122 0.54355286\n",
      " 0.90647211 0.624238  ]\n"
     ]
    }
   ],
   "source": [
    "import numpy as np\n",
    "\n",
    "# 生成50组数据\n",
    "np.random.seed(42)  # 设置随机种子，以确保结果可重现\n",
    "true_labels = np.random.choice([0, 1], size=500)  # 随机生成0和1作为真实标签\n",
    "predicted_probs = np.random.rand(500)  # 随机生成0到1之间的概率作为预测值\n",
    "\n",
    "# 打印前10个数据点以查看生成的数据\n",
    "print(\"真实标签:\", true_labels)\n",
    "print(\"预测概率:\", predicted_probs)"
   ]
  },
  {
   "cell_type": "code",
   "execution_count": 12,
   "id": "fd2d2d0b",
   "metadata": {},
   "outputs": [
    {
     "data": {
      "image/png": "[encoded data removed]",
      "text/plain": [
       "<Figure size 800x600 with 1 Axes>"
      ]
     },
     "metadata": {},
     "output_type": "display_data"
    }
   ],
   "source": [
    "gini_value = gini_from_lorenz_binned(true_labels, predicted_probs,10)\n",
    "AUC = calculate_auc(true_labels, predicted_probs)"
   ]
  },
  {
   "cell_type": "code",
   "execution_count": 13,
   "id": "406c7cf1",
   "metadata": {},
   "outputs": [
    {
     "name": "stdout",
     "output_type": "stream",
     "text": [
      "Gini系数: -0.020312499999999956\n",
      "AUC系数: 0.4839427510245902\n"
     ]
    }
   ],
   "source": [
    "print(f\"Gini系数: {gini_value}\")\n",
    "print(f\"AUC系数: {AUC}\")"
   ]
  },
  {
   "cell_type": "code",
   "execution_count": null,
   "id": "f8fb3752",
   "metadata": {},
   "outputs": [],
   "source": []
  }
 ],
 "metadata": {
  "kernelspec": {
   "display_name": "Python 3 (ipykernel)",
   "language": "python",
   "name": "python3"
  },
  "language_info": {
   "codemirror_mode": {
    "name": "ipython",
    "version": 3
   },
   "file_extension": ".py",
   "mimetype": "text/x-python",
   "name": "python",
   "nbconvert_exporter": "python",
   "pygments_lexer": "ipython3",
   "version": "3.10.6"
  }
 },
 "nbformat": 4,
 "nbformat_minor": 5
}
